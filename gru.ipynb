{
 "cells": [
  {
   "cell_type": "code",
   "execution_count": 215,
   "metadata": {
    "collapsed": false
   },
   "outputs": [],
   "source": [
    "import numpy as np\n",
    "import torch\n",
    "from torch.autograd import Variable\n",
    "import torch.nn as nn\n",
    "import torch.nn.functional as F\n",
    "import torch.optim as optim\n",
    "from collections import Counter, defaultdict\n",
    "import math\n",
    "from matplotlib import pyplot as plt\n",
    "import tqdm"
   ]
  },
  {
   "cell_type": "code",
   "execution_count": 2,
   "metadata": {
    "collapsed": true
   },
   "outputs": [],
   "source": [
    "def load_data(in_file, max_example=None, relabeling=True):\n",
    "    \"\"\"\n",
    "        load CNN / Daily Mail data from {train | dev | test}.txt\n",
    "        relabeling: relabel the entities by their first occurence if it is True.\n",
    "    \"\"\"\n",
    "\n",
    "    documents = []\n",
    "    questions = []\n",
    "    answers = []\n",
    "    num_examples = 0\n",
    "    with open(in_file, 'r') as f:\n",
    "        while True:\n",
    "            line = f.readline()\n",
    "            if not line:\n",
    "                break\n",
    "            question = line.strip().lower()\n",
    "            answer = f.readline().strip()\n",
    "            document = f.readline().strip().lower()\n",
    "\n",
    "            if relabeling:\n",
    "                q_words = question.split(' ')\n",
    "                d_words = document.split(' ')\n",
    "                assert answer in d_words\n",
    "\n",
    "                entity_dict = {}\n",
    "                entity_id = 0\n",
    "                for word in d_words + q_words:\n",
    "                    if (word.startswith('@entity')) and (word not in entity_dict):\n",
    "                        entity_dict[word] = '@entity' + str(entity_id)\n",
    "                        entity_id += 1\n",
    "\n",
    "                q_words = [entity_dict[w] if w in entity_dict else w for w in q_words]\n",
    "                d_words = [entity_dict[w] if w in entity_dict else w for w in d_words]\n",
    "                answer = entity_dict[answer]\n",
    "\n",
    "                question = ' '.join(q_words)\n",
    "                document = ' '.join(d_words)\n",
    "\n",
    "            questions.append(question)\n",
    "            answers.append(answer)\n",
    "            documents.append(document)\n",
    "            num_examples += 1\n",
    "\n",
    "            f.readline()\n",
    "            if (max_example is not None) and (num_examples >= max_example):\n",
    "                break\n",
    "                \n",
    "    print('#Examples: %d' % len(documents))\n",
    "    return (documents, questions, answers)"
   ]
  },
  {
   "cell_type": "code",
   "execution_count": 221,
   "metadata": {
    "collapsed": false
   },
   "outputs": [
    {
     "name": "stdout",
     "output_type": "stream",
     "text": [
      "********** Train Loading\n",
      "#Examples: 1000\n",
      "********** Dev Loading\n",
      "#Examples: 1000\n"
     ]
    }
   ],
   "source": [
    "fin_train = 'data/cnn/train.txt'\n",
    "fin_dev = 'data/cnn/dev.txt'\n",
    "\n",
    "print('*' * 10 + ' Train Loading')\n",
    "train_d, train_q, train_a = load_data(fin_train, 1000, relabeling=True)\n",
    "print('*' * 10 + ' Dev Loading')\n",
    "dev_d, dev_q, dev_a = load_data(fin_dev, 1000, relabeling=True)"
   ]
  },
  {
   "cell_type": "code",
   "execution_count": 4,
   "metadata": {
    "collapsed": false
   },
   "outputs": [
    {
     "name": "stdout",
     "output_type": "stream",
     "text": [
      "days after two @entity0 journalists were killed in northern @entity1 , authorities rounded up dozens of suspects and a group linked to @entity2 claimed responsibility for the deaths . at least 30 suspects were seized in desert camps near the town of @entity3 and taken to the local @entity0 army base for questioning , three officials in @entity1 said . the officials did not want to be named because they are not authorized to talk to the media . @entity4 ( @entity4 ) has allegedly claimed responsibility for the killings , according to @entity5 news agency in @entity6 . @entity4 operates in northern @entity7 and the group 's statements have shown up before on the @entity8 outlet . @entity9 journalists @entity10 and @entity11 were abducted in front of the home of a member of the @entity12 rebels ' @entity13 of a @entity14 on saturday , @entity9 reported . they were found dead the same day . their bodies arrived in @entity15 on tuesday . @entity3 was one of the strongholds of the @entity16 militant @entity12 uprising last year that plunged @entity1 into chaos after a military - led coup . following the coup , @entity12 rebels occupied the northern half of the country . a response to \" crimes \" against @entity16 in @entity17 @entity4 said the killings were in response to the \" crimes \" perpetrated by @entity0 as well as @entity7 and international troops against @entity16 in @entity17 . @entity17 is an area in northern @entity1 that separatist @entity12 rebels describe as the cradle of their nomadic civilization . @entity4 said that this is just the beginning and that @entity0 president @entity18 will pay more in response to this \" new crusade \" against @entity16 , according to the purported claim . veteran @entity19 war correspondent kidnapped in @entity20 as part of @entity0 's intervention this year to flush out militants in @entity1 , the @entity0 military secured the area around @entity3 . @entity18 called an emergency meeting with ministers sunday after the killings .\n",
      "officials : the suspects were taken to the local @placeholder army base for questioning\n",
      "@entity0\n"
     ]
    }
   ],
   "source": [
    "print(train_d[0])\n",
    "print(train_q[0])\n",
    "print(train_a[0])"
   ]
  },
  {
   "cell_type": "code",
   "execution_count": 5,
   "metadata": {
    "collapsed": true
   },
   "outputs": [],
   "source": [
    "def build_dict(sentences, max_words=50000):\n",
    "    \"\"\"\n",
    "        Build a dictionary for the words in `sentences`.\n",
    "        Only the max_words ones are kept and the remaining will be mapped to <UNK>.\n",
    "    \"\"\"\n",
    "    word_count = Counter()\n",
    "    for sent in sentences:\n",
    "        for w in sent.split(' '):\n",
    "            word_count[w] += 1\n",
    "\n",
    "    ls = word_count.most_common(max_words)\n",
    "    print('#Words: %d -> %d' % (len(word_count), len(ls)))\n",
    "    for key in ls[:5]:\n",
    "        print(key)\n",
    "    print('...')\n",
    "    for key in ls[-5:]:\n",
    "        print(key)\n",
    "\n",
    "    # leave 0 to UNK\n",
    "    # leave 1 to delimiter |||\n",
    "    return {w[0]: index + 2 for (index, w) in enumerate(ls)}"
   ]
  },
  {
   "cell_type": "code",
   "execution_count": 222,
   "metadata": {
    "collapsed": false
   },
   "outputs": [
    {
     "name": "stdout",
     "output_type": "stream",
     "text": [
      "Build dictionary..\n",
      "#Words: 23361 -> 23361\n",
      "('the', 40156)\n",
      "(',', 37380)\n",
      "('.', 31315)\n",
      "('\"', 19044)\n",
      "('to', 19016)\n",
      "...\n",
      "('muddy', 1)\n",
      "('retracted', 1)\n",
      "('concealed', 1)\n",
      "('deceiving', 1)\n",
      "('angrier', 1)\n",
      "Entity markers: 528\n"
     ]
    }
   ],
   "source": [
    "print('Build dictionary..')\n",
    "word_dict = build_dict(train_d + train_q)\n",
    "entity_markers = list(set([w for w in word_dict.keys()\n",
    "                          if w.startswith('@entity')] + train_a))\n",
    "entity_markers = ['<unk_entity>'] + entity_markers\n",
    "entity_dict = {w: index for (index, w) in enumerate(entity_markers)}\n",
    "print('Entity markers: %d' % len(entity_dict))\n",
    "num_labels = len(entity_dict)"
   ]
  },
  {
   "cell_type": "code",
   "execution_count": 223,
   "metadata": {
    "collapsed": true
   },
   "outputs": [],
   "source": [
    "def gen_embeddings(word_dict, dim, in_file=None):\n",
    "    \"\"\"\n",
    "        Generate an initial embedding matrix for `word_dict`.\n",
    "        If an embedding file is not given or a word is not in the embedding file,\n",
    "        a randomly initialized vector will be used.\n",
    "    \"\"\"\n",
    "\n",
    "    num_words = len(word_dict) + 2\n",
    "    embeddings = np.random.uniform(size=(num_words, dim))\n",
    "    print('Embeddings: %d x %d' % (num_words, dim))\n",
    "\n",
    "    if in_file is not None:\n",
    "        print('Loading embedding file: %s' % in_file)\n",
    "        pre_trained = 0\n",
    "        for line in open(in_file).readlines():\n",
    "            sp = line.split()\n",
    "            assert len(sp) == dim + 1 # word + embeddings ..\n",
    "            if sp[0] in word_dict:\n",
    "                pre_trained += 1\n",
    "                embeddings[word_dict[sp[0]]] = [float(x) for x in sp[1:]]\n",
    "        print('Pre-trained: %d (%.2f%%)' %\n",
    "              (pre_trained, pre_trained * 100.0 / num_words))\n",
    "    return embeddings"
   ]
  },
  {
   "cell_type": "code",
   "execution_count": 224,
   "metadata": {
    "collapsed": false
   },
   "outputs": [
    {
     "name": "stdout",
     "output_type": "stream",
     "text": [
      "Embeddings: 23363 x 50\n",
      "Loading embedding file: data/glove.6B/glove.6B.50d.txt\n",
      "Pre-trained: 22328 (95.57%)\n"
     ]
    }
   ],
   "source": [
    "embedding_size = 50\n",
    "embeddings = gen_embeddings(word_dict, embedding_size, 'data/glove.6B/glove.6B.{}d.txt'.format(embedding_size))"
   ]
  },
  {
   "cell_type": "code",
   "execution_count": 218,
   "metadata": {
    "collapsed": false
   },
   "outputs": [],
   "source": [
    "class Net(nn.Module):\n",
    "\n",
    "    def __init__(self, word_dict, entity_dict, embeddings, embedding_dim, hidden_dim):\n",
    "        super(Net, self).__init__()\n",
    "        \n",
    "        self.word_dict = word_dict\n",
    "        self.embeddings = embeddings\n",
    "        self.embedding_dim = embedding_dim\n",
    "        self.hidden_dim = hidden_dim // 2 * 2\n",
    "\n",
    "        self.d_gru = nn.GRU(embedding_dim, self.hidden_dim // 2,\n",
    "                            num_layers=1, bidirectional=True)\n",
    "        self.q_gru = nn.GRU(embedding_dim, self.hidden_dim // 2,\n",
    "                            num_layers=1, bidirectional=True)\n",
    "        \n",
    "        self.entity_dict = entity_dict\n",
    "        self.entity_dim = len(entity_dict)\n",
    "        self.lin = nn.Linear(self.hidden_dim, self.entity_dim)\n",
    "            \n",
    "    def init_hidden(self):\n",
    "        # Variable(num_layers*num_directions, minibatch_size, hidden_dim)\n",
    "        return Variable(torch.randn(2, 1, self.hidden_dim // 2))\n",
    "    \n",
    "    def forward(self, d, q):\n",
    "        d_words = d.split()\n",
    "        q_words = q.split()\n",
    "        d_idx = [self.word_dict[dw] for dw in d_words]\n",
    "        q_idx = [self.word_dict[qw] for qw in q_words]\n",
    "        d_emb = [self.embeddings[i] for i in d_idx] # !bug: max_words not in word_dict\n",
    "        q_emb = [self.embeddings[i] for i in q_idx]\n",
    "        d_emb = Variable(torch.FloatTensor(d_emb), requires_grad=True)\n",
    "        q_emb = Variable(torch.FloatTensor(q_emb), requires_grad=True)\n",
    "        \n",
    "        d_hidden = self.init_hidden()\n",
    "        q_hidden = self.init_hidden()\n",
    "        d_gru_out, d_hidden = self.d_gru(d_emb.view(len(d_words), 1, -1), # (seq_len, batch, input_size)\n",
    "                                         d_hidden)\n",
    "        q_gru_out, q_hidden = self.q_gru(q_emb.view(len(q_words), 1, -1), # (seq_len, batch, input_size)\n",
    "                                         q_hidden)\n",
    "        q_gru_out_mean = q_gru_out.view(len(q_words), -1).mean(dim=0)\n",
    "        \n",
    "        d_gru_out = d_gru_out.view(len(d_words), self.hidden_dim)\n",
    "        q_gru_out = q_gru_out.view(len(q_words), self.hidden_dim)\n",
    "        #sim = torch.mm(d_gru_out, q_hidden.view(self.hidden_dim,1))\n",
    "        sim = torch.mm(d_gru_out, q_gru_out_mean.view(self.hidden_dim,1))\n",
    "        o = torch.sum(d_gru_out * sim, dim=0)\n",
    "        \n",
    "        ol = self.lin(o)\n",
    "        dummy = Variable(torch.FloatTensor([float('-inf')] * self.entity_dim))\n",
    "        ol2 = torch.cat((ol.view(-1,1), dummy.view(-1,1)), dim=1)\n",
    "        d_ent_idx = set(list(filter(lambda x: x, \n",
    "                                [self.entity_dict.get(dw, None)\n",
    "                                 for dw in d_words])))\n",
    "        o_idx = [0 if i in d_ent_idx else 1 for i in range(self.entity_dim)]\n",
    "        o = ol2.gather(1, Variable(torch.Tensor(o_idx).long().view(-1,1)))\n",
    "        \n",
    "        return F.log_softmax(o, dim=0)"
   ]
  },
  {
   "cell_type": "code",
   "execution_count": 234,
   "metadata": {
    "collapsed": false
   },
   "outputs": [
    {
     "name": "stdout",
     "output_type": "stream",
     "text": [
      "COUNT 0, Loss: 21.29426383972168\n",
      "COUNT 50, Loss: 0.015425315126776695\n",
      "COUNT 100, Loss: 10.535884857177734\n",
      "COUNT 150, Loss: 1.2965137958526611\n",
      "COUNT 200, Loss: 8.4461669921875\n",
      "COUNT 250, Loss: 0.00960296206176281\n",
      "COUNT 300, Loss: 3.285341739654541\n",
      "COUNT 350, Loss: 2.3545916080474854\n",
      "COUNT 400, Loss: 2.1937577724456787\n",
      "COUNT 450, Loss: 4.397369861602783\n",
      "COUNT 500, Loss: 22.34760284423828\n",
      "COUNT 550, Loss: 1.446637749671936\n",
      "COUNT 600, Loss: 3.8469607830047607\n",
      "COUNT 650, Loss: 3.948270320892334\n",
      "COUNT 700, Loss: 20.329965591430664\n",
      "COUNT 750, Loss: 2.380972146987915\n",
      "COUNT 800, Loss: 7.691139221191406\n",
      "COUNT 850, Loss: 5.0739970207214355\n",
      "COUNT 900, Loss: 11.641571998596191\n",
      "COUNT 950, Loss: 6.78756856918335\n"
     ]
    },
    {
     "data": {
      "image/png": "[encoded data removed]",
      "text/plain": [
       "<matplotlib.figure.Figure at 0x1186f9b38>"
      ]
     },
     "metadata": {},
     "output_type": "display_data"
    }
   ],
   "source": [
    "torch.manual_seed(42)\n",
    "\n",
    "hidden_dim = 5\n",
    "net = Net(word_dict, entity_dict, embeddings, embedding_size, hidden_dim)\n",
    "loss_function = nn.NLLLoss()\n",
    "#optimizer = optim.SGD(net.parameters(), lr=0.05)\n",
    "optimizer = optim.Adam(net.parameters(), lr=0.05)\n",
    "\n",
    "losses = list()\n",
    "cnt = 0\n",
    "for i,d,q,a in zip(range(len(train_a)), train_d, train_q, train_a): # !test\n",
    "    net.zero_grad()\n",
    "    log_probs = net(d, q)\n",
    "    target = Variable(torch.LongTensor([entity_dict[a]]))\n",
    "    loss = loss_function(log_probs.view(1,-1), target)\n",
    "    losses.append(loss.data.numpy().tolist()[0])\n",
    "    loss.backward()\n",
    "    torch.nn.utils.clip_grad_norm(net.parameters(), 1)\n",
    "    optimizer.step()\n",
    "    \n",
    "    if i % 50 == 0:\n",
    "        print('COUNT {}, Loss: {}'.format(i, losses[-1]))\n",
    "plt.plot(range(len(losses)), losses)\n",
    "plt.show()"
   ]
  },
  {
   "cell_type": "code",
   "execution_count": 235,
   "metadata": {
    "collapsed": false
   },
   "outputs": [
    {
     "name": "stdout",
     "output_type": "stream",
     "text": [
      "acc: 0.099\n"
     ]
    }
   ],
   "source": [
    "acc = 0\n",
    "sz = 1000\n",
    "for i,d,q,a in zip(range(len(train_a)), train_d, train_q, train_a): # !test\n",
    "    if i >= sz:\n",
    "        break\n",
    "        \n",
    "    log_probs = net(d, q)\n",
    "    target = entity_dict[a]\n",
    "    _, idx = torch.max(log_probs, 0)\n",
    "    acc += idx.data.numpy().tolist()[0] == target\n",
    "#print('acc: {}'.format(acc/len(train_a)))\n",
    "print('acc: {}'.format(acc/sz))"
   ]
  }
 ],
 "metadata": {
  "anaconda-cloud": {},
  "kernelspec": {
   "display_name": "Python [default]",
   "language": "python",
   "name": "python3"
  },
  "language_info": {
   "codemirror_mode": {
    "name": "ipython",
    "version": 3
   },
   "file_extension": ".py",
   "mimetype": "text/x-python",
   "name": "python",
   "nbconvert_exporter": "python",
   "pygments_lexer": "ipython3",
   "version": "3.5.2"
  }
 },
 "nbformat": 4,
 "nbformat_minor": 1
}
