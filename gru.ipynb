{
 "cells": [
  {
   "cell_type": "code",
   "execution_count": 280,
   "metadata": {
    "collapsed": false
   },
   "outputs": [],
   "source": [
    "import numpy as np\n",
    "import torch\n",
    "from torch.autograd import Variable\n",
    "import torch.nn as nn\n",
    "import torch.nn.functional as F\n",
    "import torch.optim as optim\n",
    "from collections import Counter, defaultdict\n",
    "import math\n",
    "from matplotlib import pyplot as plt\n",
    "import tqdm"
   ]
  },
  {
   "cell_type": "code",
   "execution_count": 281,
   "metadata": {
    "collapsed": true
   },
   "outputs": [],
   "source": [
    "def load_data(in_file, max_example=None, relabeling=True):\n",
    "    \"\"\"\n",
    "        load CNN / Daily Mail data from {train | dev | test}.txt\n",
    "        relabeling: relabel the entities by their first occurence if it is True.\n",
    "    \"\"\"\n",
    "\n",
    "    documents = []\n",
    "    questions = []\n",
    "    answers = []\n",
    "    num_examples = 0\n",
    "    with open(in_file, 'r') as f:\n",
    "        while True:\n",
    "            line = f.readline()\n",
    "            if not line:\n",
    "                break\n",
    "            question = line.strip().lower()\n",
    "            answer = f.readline().strip()\n",
    "            document = f.readline().strip().lower()\n",
    "\n",
    "            if relabeling:\n",
    "                q_words = question.split(' ')\n",
    "                d_words = document.split(' ')\n",
    "                assert answer in d_words\n",
    "\n",
    "                entity_dict = {}\n",
    "                entity_id = 0\n",
    "                for word in d_words + q_words:\n",
    "                    if (word.startswith('@entity')) and (word not in entity_dict):\n",
    "                        entity_dict[word] = '@entity' + str(entity_id)\n",
    "                        entity_id += 1\n",
    "\n",
    "                q_words = [entity_dict[w] if w in entity_dict else w for w in q_words]\n",
    "                d_words = [entity_dict[w] if w in entity_dict else w for w in d_words]\n",
    "                answer = entity_dict[answer]\n",
    "\n",
    "                question = ' '.join(q_words)\n",
    "                document = ' '.join(d_words)\n",
    "\n",
    "            questions.append(question)\n",
    "            answers.append(answer)\n",
    "            documents.append(document)\n",
    "            num_examples += 1\n",
    "\n",
    "            f.readline()\n",
    "            if (max_example is not None) and (num_examples >= max_example):\n",
    "                break\n",
    "                \n",
    "    print('#Examples: %d' % len(documents))\n",
    "    return (documents, questions, answers)"
   ]
  },
  {
   "cell_type": "code",
   "execution_count": 282,
   "metadata": {
    "collapsed": false
   },
   "outputs": [
    {
     "name": "stdout",
     "output_type": "stream",
     "text": [
      "********** Train Loading\n",
      "#Examples: 5000\n",
      "********** Dev Loading\n",
      "#Examples: 3924\n"
     ]
    }
   ],
   "source": [
    "fin_train = 'data/cnn/train.txt'\n",
    "fin_dev = 'data/cnn/dev.txt'\n",
    "\n",
    "print('*' * 10 + ' Train Loading')\n",
    "train_d, train_q, train_a = load_data(fin_train, 5000, relabeling=True)\n",
    "print('*' * 10 + ' Dev Loading')\n",
    "dev_d, dev_q, dev_a = load_data(fin_dev, 5000, relabeling=True)"
   ]
  },
  {
   "cell_type": "code",
   "execution_count": 283,
   "metadata": {
    "collapsed": false
   },
   "outputs": [
    {
     "name": "stdout",
     "output_type": "stream",
     "text": [
      "days after two @entity0 journalists were killed in northern @entity1 , authorities rounded up dozens of suspects and a group linked to @entity2 claimed responsibility for the deaths . at least 30 suspects were seized in desert camps near the town of @entity3 and taken to the local @entity0 army base for questioning , three officials in @entity1 said . the officials did not want to be named because they are not authorized to talk to the media . @entity4 ( @entity4 ) has allegedly claimed responsibility for the killings , according to @entity5 news agency in @entity6 . @entity4 operates in northern @entity7 and the group 's statements have shown up before on the @entity8 outlet . @entity9 journalists @entity10 and @entity11 were abducted in front of the home of a member of the @entity12 rebels ' @entity13 of a @entity14 on saturday , @entity9 reported . they were found dead the same day . their bodies arrived in @entity15 on tuesday . @entity3 was one of the strongholds of the @entity16 militant @entity12 uprising last year that plunged @entity1 into chaos after a military - led coup . following the coup , @entity12 rebels occupied the northern half of the country . a response to \" crimes \" against @entity16 in @entity17 @entity4 said the killings were in response to the \" crimes \" perpetrated by @entity0 as well as @entity7 and international troops against @entity16 in @entity17 . @entity17 is an area in northern @entity1 that separatist @entity12 rebels describe as the cradle of their nomadic civilization . @entity4 said that this is just the beginning and that @entity0 president @entity18 will pay more in response to this \" new crusade \" against @entity16 , according to the purported claim . veteran @entity19 war correspondent kidnapped in @entity20 as part of @entity0 's intervention this year to flush out militants in @entity1 , the @entity0 military secured the area around @entity3 . @entity18 called an emergency meeting with ministers sunday after the killings .\n",
      "officials : the suspects were taken to the local @placeholder army base for questioning\n",
      "@entity0\n"
     ]
    }
   ],
   "source": [
    "print(train_d[0])\n",
    "print(train_q[0])\n",
    "print(train_a[0])"
   ]
  },
  {
   "cell_type": "code",
   "execution_count": 284,
   "metadata": {
    "collapsed": true
   },
   "outputs": [],
   "source": [
    "def build_dict(sentences, max_words=50000):\n",
    "    \"\"\"\n",
    "        Build a dictionary for the words in `sentences`.\n",
    "        Only the max_words ones are kept and the remaining will be mapped to <UNK>.\n",
    "    \"\"\"\n",
    "    word_count = Counter()\n",
    "    for sent in sentences:\n",
    "        for w in sent.split(' '):\n",
    "            word_count[w] += 1\n",
    "\n",
    "    ls = word_count.most_common(max_words)\n",
    "    print('#Words: %d -> %d' % (len(word_count), len(ls)))\n",
    "    for key in ls[:5]:\n",
    "        print(key)\n",
    "    print('...')\n",
    "    for key in ls[-5:]:\n",
    "        print(key)\n",
    "\n",
    "    # leave 0 to UNK\n",
    "    # leave 1 to delimiter |||\n",
    "    return {w[0]: index + 2 for (index, w) in enumerate(ls)}"
   ]
  },
  {
   "cell_type": "code",
   "execution_count": 285,
   "metadata": {
    "collapsed": false
   },
   "outputs": [
    {
     "name": "stdout",
     "output_type": "stream",
     "text": [
      "Build dictionary..\n",
      "#Words: 41749 -> 41749\n",
      "('the', 202789)\n",
      "(',', 181868)\n",
      "('.', 155763)\n",
      "('to', 95559)\n",
      "('\"', 92261)\n",
      "...\n",
      "('columnists', 1)\n",
      "('anti-capitalist', 1)\n",
      "('67.3', 1)\n",
      "('footballs', 1)\n",
      "('non-tv', 1)\n",
      "Entity markers: 528\n"
     ]
    }
   ],
   "source": [
    "print('Build dictionary..')\n",
    "word_dict = build_dict(train_d + train_q)\n",
    "entity_markers = list(set([w for w in word_dict.keys()\n",
    "                          if w.startswith('@entity')] + train_a))\n",
    "entity_markers = ['<unk_entity>'] + entity_markers\n",
    "entity_dict = {w: index for (index, w) in enumerate(entity_markers)}\n",
    "print('Entity markers: %d' % len(entity_dict))\n",
    "num_labels = len(entity_dict)"
   ]
  },
  {
   "cell_type": "code",
   "execution_count": 286,
   "metadata": {
    "collapsed": true
   },
   "outputs": [],
   "source": [
    "def gen_embeddings(word_dict, dim, in_file=None):\n",
    "    \"\"\"\n",
    "        Generate an initial embedding matrix for `word_dict`.\n",
    "        If an embedding file is not given or a word is not in the embedding file,\n",
    "        a randomly initialized vector will be used.\n",
    "    \"\"\"\n",
    "\n",
    "    num_words = len(word_dict) + 2\n",
    "    embeddings = np.random.uniform(size=(num_words, dim))\n",
    "    print('Embeddings: %d x %d' % (num_words, dim))\n",
    "\n",
    "    if in_file is not None:\n",
    "        print('Loading embedding file: %s' % in_file)\n",
    "        pre_trained = 0\n",
    "        for line in open(in_file).readlines():\n",
    "            sp = line.split()\n",
    "            assert len(sp) == dim + 1 # word + embeddings ..\n",
    "            if sp[0] in word_dict:\n",
    "                pre_trained += 1\n",
    "                embeddings[word_dict[sp[0]]] = [float(x) for x in sp[1:]]\n",
    "        print('Pre-trained: %d (%.2f%%)' %\n",
    "              (pre_trained, pre_trained * 100.0 / num_words))\n",
    "    return embeddings"
   ]
  },
  {
   "cell_type": "code",
   "execution_count": 287,
   "metadata": {
    "collapsed": false
   },
   "outputs": [
    {
     "name": "stdout",
     "output_type": "stream",
     "text": [
      "Embeddings: 41751 x 50\n",
      "Loading embedding file: data/glove.6B/glove.6B.50d.txt\n",
      "Pre-trained: 38934 (93.25%)\n"
     ]
    }
   ],
   "source": [
    "embedding_size = 50\n",
    "embeddings = gen_embeddings(word_dict, embedding_size, 'data/glove.6B/glove.6B.{}d.txt'.format(embedding_size))"
   ]
  },
  {
   "cell_type": "code",
   "execution_count": 288,
   "metadata": {
    "collapsed": false
   },
   "outputs": [],
   "source": [
    "class Net(nn.Module):\n",
    "\n",
    "    def __init__(self, word_dict, entity_dict, embeddings, embedding_dim, hidden_dim):\n",
    "        super(Net, self).__init__()\n",
    "        \n",
    "        self.word_dict = word_dict\n",
    "        self.embeddings = embeddings\n",
    "        self.embedding_dim = embedding_dim\n",
    "        self.hidden_dim = hidden_dim // 2 * 2\n",
    "\n",
    "        self.d_gru = nn.GRU(embedding_dim, self.hidden_dim // 2,\n",
    "                            num_layers=1, bidirectional=True)\n",
    "        self.q_gru = nn.GRU(embedding_dim, self.hidden_dim // 2,\n",
    "                            num_layers=1, bidirectional=True)\n",
    "        \n",
    "        self.entity_dict = entity_dict\n",
    "        self.entity_dim = len(entity_dict)\n",
    "        self.lin = nn.Linear(self.hidden_dim, self.entity_dim)\n",
    "            \n",
    "    def init_hidden(self):\n",
    "        # Variable(num_layers*num_directions, minibatch_size, hidden_dim)\n",
    "        return Variable(torch.randn(2, 1, self.hidden_dim // 2))\n",
    "    \n",
    "    def forward(self, d, q):\n",
    "        d_words = d.split()\n",
    "        q_words = q.split()\n",
    "        d_idx = [self.word_dict[dw] for dw in d_words]\n",
    "        q_idx = [self.word_dict[qw] for qw in q_words]\n",
    "        d_emb = [self.embeddings[i] for i in d_idx] # !bug: max_words not in word_dict\n",
    "        q_emb = [self.embeddings[i] for i in q_idx]\n",
    "        d_emb = Variable(torch.FloatTensor(d_emb), requires_grad=True)\n",
    "        q_emb = Variable(torch.FloatTensor(q_emb), requires_grad=True)\n",
    "        \n",
    "        d_hidden = self.init_hidden()\n",
    "        q_hidden = self.init_hidden()\n",
    "        d_gru_out, d_hidden = self.d_gru(d_emb.view(len(d_words), 1, -1), # (seq_len, batch, input_size)\n",
    "                                         d_hidden)\n",
    "        q_gru_out, q_hidden = self.q_gru(q_emb.view(len(q_words), 1, -1), # (seq_len, batch, input_size)\n",
    "                                         q_hidden)\n",
    "        q_gru_out_mean = q_gru_out.view(len(q_words), -1).mean(dim=0)\n",
    "        \n",
    "        d_gru_out = d_gru_out.view(len(d_words), self.hidden_dim)\n",
    "        q_gru_out = q_gru_out.view(len(q_words), self.hidden_dim)\n",
    "        #sim = torch.mm(d_gru_out, q_hidden.view(self.hidden_dim,1))\n",
    "        sim = torch.mm(d_gru_out, q_gru_out_mean.view(self.hidden_dim,1))\n",
    "        o = torch.sum(d_gru_out * sim, dim=0)\n",
    "        \n",
    "        ol = self.lin(o)\n",
    "        dummy = Variable(torch.FloatTensor([float('-inf')] * self.entity_dim))\n",
    "        ol2 = torch.cat((ol.view(-1,1), dummy.view(-1,1)), dim=1)\n",
    "        d_ent_idx = set(list(filter(lambda x: x, \n",
    "                                [self.entity_dict.get(dw, None)\n",
    "                                 for dw in d_words])))\n",
    "        o_idx = [0 if i in d_ent_idx else 1 for i in range(self.entity_dim)]\n",
    "        o = ol2.gather(1, Variable(torch.Tensor(o_idx).long().view(-1,1)))\n",
    "        \n",
    "        return F.log_softmax(o, dim=0)"
   ]
  },
  {
   "cell_type": "code",
   "execution_count": 289,
   "metadata": {
    "collapsed": false
   },
   "outputs": [
    {
     "name": "stdout",
     "output_type": "stream",
     "text": [
      "COUNT 0, Loss: 49.76732635498047\n",
      "COUNT 50, Loss: 21.61507225036621\n",
      "COUNT 100, Loss: 19.04601287841797\n",
      "COUNT 150, Loss: 16.15447235107422\n",
      "COUNT 200, Loss: 37.97210693359375\n",
      "COUNT 250, Loss: 7.783970355987549\n",
      "COUNT 300, Loss: 1.9780786037445068\n",
      "COUNT 350, Loss: 13.490550994873047\n",
      "COUNT 400, Loss: 9.612691879272461\n",
      "COUNT 450, Loss: 25.18260955810547\n",
      "COUNT 500, Loss: 20.973920822143555\n",
      "COUNT 550, Loss: 1.982447862625122\n",
      "COUNT 600, Loss: 11.927663803100586\n",
      "COUNT 650, Loss: 2.5551300048828125\n",
      "COUNT 700, Loss: 11.45595932006836\n",
      "COUNT 750, Loss: 4.142070293426514\n",
      "COUNT 800, Loss: 21.09282112121582\n",
      "COUNT 850, Loss: 3.4850857257843018\n",
      "COUNT 900, Loss: 18.67911720275879\n",
      "COUNT 950, Loss: 4.437651634216309\n",
      "COUNT 1000, Loss: 9.375301361083984\n",
      "COUNT 1050, Loss: 3.015742301940918\n",
      "COUNT 1100, Loss: 2.899275541305542\n",
      "COUNT 1150, Loss: 3.163215160369873\n",
      "COUNT 1200, Loss: 1.8998486995697021\n",
      "COUNT 1250, Loss: 1.50186288356781\n",
      "COUNT 1300, Loss: 3.5696892738342285\n",
      "COUNT 1350, Loss: 3.40248703956604\n",
      "COUNT 1400, Loss: 3.3709359169006348\n",
      "COUNT 1450, Loss: 2.2916696071624756\n",
      "COUNT 1500, Loss: 9.379899024963379\n",
      "COUNT 1550, Loss: 1.528336763381958\n",
      "COUNT 1600, Loss: 3.0868451595306396\n",
      "COUNT 1650, Loss: 2.2585322856903076\n",
      "COUNT 1700, Loss: 0.22723780572414398\n",
      "COUNT 1750, Loss: 3.4466962814331055\n",
      "COUNT 1800, Loss: 6.145534038543701\n",
      "COUNT 1850, Loss: 8.208611488342285\n",
      "COUNT 1900, Loss: 2.4935669898986816\n",
      "COUNT 1950, Loss: 1.4374827146530151\n",
      "COUNT 2000, Loss: 13.332050323486328\n",
      "COUNT 2050, Loss: 2.5126545429229736\n",
      "COUNT 2100, Loss: 2.6489450931549072\n",
      "COUNT 2150, Loss: 2.1053659915924072\n",
      "COUNT 2200, Loss: 2.2109735012054443\n",
      "COUNT 2250, Loss: 2.088810443878174\n",
      "COUNT 2300, Loss: 1.9524022340774536\n",
      "COUNT 2350, Loss: 3.877025604248047\n",
      "COUNT 2400, Loss: 2.015625476837158\n",
      "COUNT 2450, Loss: 1.9696471691131592\n",
      "COUNT 2500, Loss: 2.588996648788452\n",
      "COUNT 2550, Loss: 7.156141757965088\n",
      "COUNT 2600, Loss: 1.8654274940490723\n",
      "COUNT 2650, Loss: 3.2063069343566895\n",
      "COUNT 2700, Loss: 2.225698471069336\n",
      "COUNT 2750, Loss: 1.3635319471359253\n",
      "COUNT 2800, Loss: 2.564206838607788\n",
      "COUNT 2850, Loss: 1.559290885925293\n",
      "COUNT 2900, Loss: 6.231446743011475\n",
      "COUNT 2950, Loss: 4.302574157714844\n",
      "COUNT 3000, Loss: 3.010183095932007\n",
      "COUNT 3050, Loss: 8.523175239562988\n",
      "COUNT 3100, Loss: 2.289666175842285\n",
      "COUNT 3150, Loss: 3.2964365482330322\n",
      "COUNT 3200, Loss: 4.58371114730835\n",
      "COUNT 3250, Loss: 1.8921549320220947\n",
      "COUNT 3300, Loss: 1.9347184896469116\n",
      "COUNT 3350, Loss: 2.14564847946167\n",
      "COUNT 3400, Loss: 2.9062323570251465\n",
      "COUNT 3450, Loss: 11.036352157592773\n",
      "COUNT 3500, Loss: 2.4883790016174316\n",
      "COUNT 3550, Loss: 3.328827142715454\n",
      "COUNT 3600, Loss: 0.720293402671814\n",
      "COUNT 3650, Loss: 2.4088871479034424\n",
      "COUNT 3700, Loss: 2.7518222332000732\n",
      "COUNT 3750, Loss: 2.932460308074951\n",
      "COUNT 3800, Loss: 2.4682979583740234\n",
      "COUNT 3850, Loss: 9.068382263183594\n",
      "COUNT 3900, Loss: 3.153395414352417\n",
      "COUNT 3950, Loss: 1.678687572479248\n",
      "COUNT 4000, Loss: 4.009546756744385\n",
      "COUNT 4050, Loss: 4.617773532867432\n",
      "COUNT 4100, Loss: 3.4772579669952393\n",
      "COUNT 4150, Loss: 2.3567020893096924\n",
      "COUNT 4200, Loss: 2.6212265491485596\n",
      "COUNT 4250, Loss: 9.755270004272461\n",
      "COUNT 4300, Loss: 2.8355071544647217\n",
      "COUNT 4350, Loss: 4.774375915527344\n",
      "COUNT 4400, Loss: 5.04801607131958\n",
      "COUNT 4450, Loss: 3.2440967559814453\n",
      "COUNT 4500, Loss: 4.059027194976807\n",
      "COUNT 4550, Loss: 2.922649383544922\n",
      "COUNT 4600, Loss: 8.175649642944336\n",
      "COUNT 4650, Loss: 1.6566157341003418\n",
      "COUNT 4700, Loss: 2.260977029800415\n",
      "COUNT 4750, Loss: 3.9669296741485596\n",
      "COUNT 4800, Loss: 5.764330863952637\n",
      "COUNT 4850, Loss: 3.8591644763946533\n",
      "COUNT 4900, Loss: 2.644507646560669\n",
      "COUNT 4950, Loss: 2.2381513118743896\n"
     ]
    },
    {
     "data": {
      "image/png": "[encoded data removed]",
      "text/plain": [
       "<matplotlib.figure.Figure at 0x101e90828>"
      ]
     },
     "metadata": {},
     "output_type": "display_data"
    }
   ],
   "source": [
    "torch.manual_seed(42)\n",
    "\n",
    "hidden_dim = 5\n",
    "net = Net(word_dict, entity_dict, embeddings, embedding_size, hidden_dim)\n",
    "loss_function = nn.NLLLoss()\n",
    "optimizer = optim.SGD(net.parameters(), lr=0.05)\n",
    "#optimizer = optim.Adam(net.parameters(), lr=0.1)\n",
    "\n",
    "losses = list()\n",
    "cnt = 0\n",
    "for i,d,q,a in zip(range(len(train_a)), train_d, train_q, train_a): # !test\n",
    "    net.zero_grad()\n",
    "    log_probs = net(d, q)\n",
    "    target = Variable(torch.LongTensor([entity_dict[a]]))\n",
    "    loss = loss_function(log_probs.view(1,-1), target)\n",
    "    losses.append(loss.data.numpy().tolist()[0])\n",
    "    loss.backward()\n",
    "    torch.nn.utils.clip_grad_norm(net.parameters(), 1)\n",
    "    optimizer.step()\n",
    "    \n",
    "    if i % 50 == 0:\n",
    "        print('COUNT {}, Loss: {}'.format(i, losses[-1]))\n",
    "plt.plot(range(len(losses)), losses)\n",
    "plt.show()"
   ]
  },
  {
   "cell_type": "code",
   "execution_count": 290,
   "metadata": {
    "collapsed": false
   },
   "outputs": [
    {
     "name": "stdout",
     "output_type": "stream",
     "text": [
      "acc: 0.15\n"
     ]
    }
   ],
   "source": [
    "acc = 0\n",
    "sz = 1000\n",
    "for i,d,q,a in zip(range(len(train_a)), train_d, train_q, train_a): # !test\n",
    "    if i >= sz:\n",
    "        break\n",
    "        \n",
    "    log_probs = net(d, q)\n",
    "    target = entity_dict[a]\n",
    "    _, idx = torch.max(log_probs, 0)\n",
    "    acc += idx.data.numpy().tolist()[0] == target\n",
    "#print('acc: {}'.format(acc/len(train_a)))\n",
    "print('acc: {}'.format(acc/sz))"
   ]
  }
 ],
 "metadata": {
  "anaconda-cloud": {},
  "kernelspec": {
   "display_name": "Python [default]",
   "language": "python",
   "name": "python3"
  },
  "language_info": {
   "codemirror_mode": {
    "name": "ipython",
    "version": 3
   },
   "file_extension": ".py",
   "mimetype": "text/x-python",
   "name": "python",
   "nbconvert_exporter": "python",
   "pygments_lexer": "ipython3",
   "version": "3.5.2"
  }
 },
 "nbformat": 4,
 "nbformat_minor": 1
}
